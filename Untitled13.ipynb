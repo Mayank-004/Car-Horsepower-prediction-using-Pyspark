{
  "nbformat": 4,
  "nbformat_minor": 0,
  "metadata": {
    "colab": {
      "name": "Untitled13.ipynb",
      "provenance": []
    },
    "kernelspec": {
      "name": "python3",
      "display_name": "Python 3"
    },
    "language_info": {
      "name": "python"
    }
  },
  "cells": [
    {
      "cell_type": "code",
      "metadata": {
        "colab": {
          "base_uri": "https://localhost:8080/"
        },
        "id": "B6zzCLh1uB5Z",
        "outputId": "e4033e5b-fb7d-499a-c6c5-2578beadc5a3"
      },
      "source": [
        "!pip install pyspark"
      ],
      "execution_count": 2,
      "outputs": [
        {
          "output_type": "stream",
          "text": [
            "Requirement already satisfied: pyspark in /usr/local/lib/python3.7/dist-packages (3.1.1)\n",
            "Requirement already satisfied: py4j==0.10.9 in /usr/local/lib/python3.7/dist-packages (from pyspark) (0.10.9)\n"
          ],
          "name": "stdout"
        }
      ]
    },
    {
      "cell_type": "code",
      "metadata": {
        "colab": {
          "base_uri": "https://localhost:8080/"
        },
        "id": "HMiMuNvEwfGQ",
        "outputId": "e697b3d4-b390-42b2-b4e9-5163aa63fddd"
      },
      "source": [
        "from pyspark import SparkConf, SparkContext\n",
        "from pyspark.sql import SQLContext\n",
        "sc= SparkContext()\n",
        "sqlContext = SQLContext(sc)\n",
        "car_df = sqlContext.read.format('com.databricks.spark.csv').options(header='true', inferschema='true').load('Small_Car_Data.csv')\n",
        "car_df.take(1)"
      ],
      "execution_count": 3,
      "outputs": [
        {
          "output_type": "execute_result",
          "data": {
            "text/plain": [
              "[Row(_c0=1, Acceleration=12.0, Cylinders=8, Displacement=307, Horsepower=130, Manufacturer='chevrolet    ', Model='chevrolet chevelle malibu        ', Model_Year=70, MPG=18.0, Origin='USA    ', Weight=3504)]"
            ]
          },
          "metadata": {
            "tags": []
          },
          "execution_count": 3
        }
      ]
    },
    {
      "cell_type": "code",
      "metadata": {
        "colab": {
          "base_uri": "https://localhost:8080/",
          "height": 421
        },
        "id": "KXUF6uAdwxz6",
        "outputId": "d1705e58-5d3b-48a1-85f3-083b46469fce"
      },
      "source": [
        "car_df.describe().toPandas().transpose()\n"
      ],
      "execution_count": 4,
      "outputs": [
        {
          "output_type": "execute_result",
          "data": {
            "text/html": [
              "<div>\n",
              "<style scoped>\n",
              "    .dataframe tbody tr th:only-of-type {\n",
              "        vertical-align: middle;\n",
              "    }\n",
              "\n",
              "    .dataframe tbody tr th {\n",
              "        vertical-align: top;\n",
              "    }\n",
              "\n",
              "    .dataframe thead th {\n",
              "        text-align: right;\n",
              "    }\n",
              "</style>\n",
              "<table border=\"1\" class=\"dataframe\">\n",
              "  <thead>\n",
              "    <tr style=\"text-align: right;\">\n",
              "      <th></th>\n",
              "      <th>0</th>\n",
              "      <th>1</th>\n",
              "      <th>2</th>\n",
              "      <th>3</th>\n",
              "      <th>4</th>\n",
              "    </tr>\n",
              "  </thead>\n",
              "  <tbody>\n",
              "    <tr>\n",
              "      <th>summary</th>\n",
              "      <td>count</td>\n",
              "      <td>mean</td>\n",
              "      <td>stddev</td>\n",
              "      <td>min</td>\n",
              "      <td>max</td>\n",
              "    </tr>\n",
              "    <tr>\n",
              "      <th>_c0</th>\n",
              "      <td>100</td>\n",
              "      <td>50.5</td>\n",
              "      <td>29.011491975882016</td>\n",
              "      <td>1</td>\n",
              "      <td>100</td>\n",
              "    </tr>\n",
              "    <tr>\n",
              "      <th>Acceleration</th>\n",
              "      <td>100</td>\n",
              "      <td>15.028000000000004</td>\n",
              "      <td>3.348452982160175</td>\n",
              "      <td>8.0</td>\n",
              "      <td>24.6</td>\n",
              "    </tr>\n",
              "    <tr>\n",
              "      <th>Cylinders</th>\n",
              "      <td>100</td>\n",
              "      <td>5.62</td>\n",
              "      <td>1.7909988184465022</td>\n",
              "      <td>4</td>\n",
              "      <td>8</td>\n",
              "    </tr>\n",
              "    <tr>\n",
              "      <th>Displacement</th>\n",
              "      <td>100</td>\n",
              "      <td>207.6</td>\n",
              "      <td>111.77448435817251</td>\n",
              "      <td>85</td>\n",
              "      <td>455</td>\n",
              "    </tr>\n",
              "    <tr>\n",
              "      <th>Horsepower</th>\n",
              "      <td>100</td>\n",
              "      <td>111.83</td>\n",
              "      <td>45.345153316456326</td>\n",
              "      <td>46</td>\n",
              "      <td>225</td>\n",
              "    </tr>\n",
              "    <tr>\n",
              "      <th>Manufacturer</th>\n",
              "      <td>100</td>\n",
              "      <td>None</td>\n",
              "      <td>None</td>\n",
              "      <td>amc</td>\n",
              "      <td>volvo</td>\n",
              "    </tr>\n",
              "    <tr>\n",
              "      <th>Model</th>\n",
              "      <td>100</td>\n",
              "      <td>None</td>\n",
              "      <td>None</td>\n",
              "      <td>amc ambassador dpl</td>\n",
              "      <td>volvo 245</td>\n",
              "    </tr>\n",
              "    <tr>\n",
              "      <th>Model_Year</th>\n",
              "      <td>100</td>\n",
              "      <td>75.76</td>\n",
              "      <td>4.893037725362245</td>\n",
              "      <td>70</td>\n",
              "      <td>82</td>\n",
              "    </tr>\n",
              "    <tr>\n",
              "      <th>MPG</th>\n",
              "      <td>100</td>\n",
              "      <td>23.315</td>\n",
              "      <td>7.966994731421944</td>\n",
              "      <td>9.0</td>\n",
              "      <td>44.0</td>\n",
              "    </tr>\n",
              "    <tr>\n",
              "      <th>Origin</th>\n",
              "      <td>100</td>\n",
              "      <td>None</td>\n",
              "      <td>None</td>\n",
              "      <td>France</td>\n",
              "      <td>USA</td>\n",
              "    </tr>\n",
              "    <tr>\n",
              "      <th>Weight</th>\n",
              "      <td>100</td>\n",
              "      <td>3011.83</td>\n",
              "      <td>806.9624182980607</td>\n",
              "      <td>1795</td>\n",
              "      <td>4732</td>\n",
              "    </tr>\n",
              "  </tbody>\n",
              "</table>\n",
              "</div>"
            ],
            "text/plain": [
              "                  0  ...                                  4\n",
              "summary       count  ...                                max\n",
              "_c0             100  ...                                100\n",
              "Acceleration    100  ...                               24.6\n",
              "Cylinders       100  ...                                  8\n",
              "Displacement    100  ...                                455\n",
              "Horsepower      100  ...                                225\n",
              "Manufacturer    100  ...                      volvo        \n",
              "Model           100  ...  volvo 245                        \n",
              "Model_Year      100  ...                                 82\n",
              "MPG             100  ...                               44.0\n",
              "Origin          100  ...                            USA    \n",
              "Weight          100  ...                               4732\n",
              "\n",
              "[12 rows x 5 columns]"
            ]
          },
          "metadata": {
            "tags": []
          },
          "execution_count": 4
        }
      ]
    },
    {
      "cell_type": "code",
      "metadata": {
        "id": "WngNHmX_yPCb"
      },
      "source": [
        "from pyspark.ml.feature import VectorAssembler\n",
        "\n",
        "vectorAssembler = VectorAssembler(inputCols = ['Displacement'], outputCol = 'features')\n",
        "vcar_df = vectorAssembler.transform(car_df)\n",
        "\n",
        "vcar_df = vcar_df.select(['features', 'Horsepower'])\n",
        "\n"
      ],
      "execution_count": 5,
      "outputs": []
    },
    {
      "cell_type": "code",
      "metadata": {
        "colab": {
          "base_uri": "https://localhost:8080/"
        },
        "id": "IwFW6dRcyj4K",
        "outputId": "0910383b-d1d4-42b0-f39a-edb15fac491a"
      },
      "source": [
        "vcar_df.show(3)\n"
      ],
      "execution_count": 6,
      "outputs": [
        {
          "output_type": "stream",
          "text": [
            "+--------+----------+\n",
            "|features|Horsepower|\n",
            "+--------+----------+\n",
            "| [307.0]|       130|\n",
            "| [350.0]|       165|\n",
            "| [318.0]|       150|\n",
            "+--------+----------+\n",
            "only showing top 3 rows\n",
            "\n"
          ],
          "name": "stdout"
        }
      ]
    },
    {
      "cell_type": "code",
      "metadata": {
        "id": "WniveitAy3MJ"
      },
      "source": [
        "splits = vcar_df.randomSplit([0.9, 0.1])\n",
        "train_df = splits[0]\n",
        "test_df = splits[1]"
      ],
      "execution_count": 7,
      "outputs": []
    },
    {
      "cell_type": "code",
      "metadata": {
        "colab": {
          "base_uri": "https://localhost:8080/"
        },
        "id": "brrUpnv7zFRo",
        "outputId": "c59be204-f83d-45b5-ef49-4d4a3b838650"
      },
      "source": [
        "from pyspark.ml.regression import LinearRegression\n",
        "lr = LinearRegression(featuresCol = 'features', labelCol='Horsepower', maxIter=10, regParam=0.3, elasticNetParam=0.8)\n",
        "lr_model = lr.fit(train_df)\n",
        "print(\"Coefficients: \" + str(lr_model.coefficients))\n",
        "print(\"Intercept: \" + str(lr_model.intercept))"
      ],
      "execution_count": 50,
      "outputs": [
        {
          "output_type": "stream",
          "text": [
            "Coefficients: [0.3604834673870191]\n",
            "Intercept: 36.81316234625911\n"
          ],
          "name": "stdout"
        }
      ]
    },
    {
      "cell_type": "code",
      "metadata": {
        "colab": {
          "base_uri": "https://localhost:8080/"
        },
        "id": "10ZYTfJh1sHU",
        "outputId": "7732e7d8-d058-4134-9f2a-86b9119737c8"
      },
      "source": [
        "trainingSummary = lr_model.summary\n",
        "print(\"RMSE: %f\" % trainingSummary.rootMeanSquaredError)\n",
        "print(\"r2: %f\" % trainingSummary.r2)"
      ],
      "execution_count": 51,
      "outputs": [
        {
          "output_type": "stream",
          "text": [
            "RMSE: 17.608629\n",
            "r2: 0.833781\n"
          ],
          "name": "stdout"
        }
      ]
    },
    {
      "cell_type": "code",
      "metadata": {
        "colab": {
          "base_uri": "https://localhost:8080/"
        },
        "id": "4hZSoFFn12iz",
        "outputId": "8206807d-b0ec-47bc-e45d-5e35e7965e27"
      },
      "source": [
        "lr_predictions = lr_model.transform(train_df)\n",
        "lr_predictions_test = lr_model.transform(test_df)\n",
        "\n",
        "print(\"Prediction on train Data\")\n",
        "lr_predictions_train.select(\"prediction\",\"Horsepower\",\"features\").show(5)\n",
        "print(\"Prediction on test Data\")\n",
        "lr_predictions_test.select(\"prediction\",\"Horsepower\",\"features\").show(5)\n",
        "\n",
        "from pyspark.ml.evaluation import RegressionEvaluator\n",
        "lr_evaluator = RegressionEvaluator(predictionCol=\"prediction\", \\\n",
        "                 labelCol=\"Horsepower\",metricName=\"r2\")\n",
        "print(\"R Squared (R2) on train data = %g\" % lr_evaluator.evaluate(lr_predictions_train))\n",
        "print(\"R Squared (R2) on test data = %g\" % lr_evaluator.evaluate(lr_predictions_test))"
      ],
      "execution_count": 57,
      "outputs": [
        {
          "output_type": "stream",
          "text": [
            "Prediction on train Data\n",
            "+-----------------+----------+--------+\n",
            "|       prediction|Horsepower|features|\n",
            "+-----------------+----------+--------+\n",
            "|67.45425707415573|        52|  [85.0]|\n",
            "|67.45425707415573|        70|  [85.0]|\n",
            "|69.25667441109083|        70|  [90.0]|\n",
            "|69.61715787847785|        53|  [91.0]|\n",
            "|69.61715787847785|        67|  [91.0]|\n",
            "+-----------------+----------+--------+\n",
            "only showing top 5 rows\n",
            "\n",
            "Prediction on test Data\n",
            "+------------------+----------+--------+\n",
            "|        prediction|Horsepower|features|\n",
            "+------------------+----------+--------+\n",
            "| 77.18731069360524|        88| [112.0]|\n",
            "|108.54937235627591|        97| [199.0]|\n",
            "|117.92194250833842|       100| [225.0]|\n",
            "|126.93402919301388|        78| [250.0]|\n",
            "|146.40013643191293|       150| [304.0]|\n",
            "+------------------+----------+--------+\n",
            "only showing top 5 rows\n",
            "\n",
            "R Squared (R2) on train data = 0.833781\n",
            "R Squared (R2) on test data = 0.751714\n"
          ],
          "name": "stdout"
        }
      ]
    },
    {
      "cell_type": "code",
      "metadata": {
        "colab": {
          "base_uri": "https://localhost:8080/"
        },
        "id": "JVEvkQ0d2ilc",
        "outputId": "dfd4db3c-f005-43f9-c3f7-37d45fce5125"
      },
      "source": [
        "train_result = lr_model.evaluate(train_df)\n",
        "print(\"Root Mean Squared Error (RMSE) on train data = %g\" % train_result.rootMeanSquaredError)\n",
        "\n",
        "test_result = lr_model.evaluate(test_df)\n",
        "print(\"Root Mean Squared Error (RMSE) on test data = %g\" % test_result.rootMeanSquaredError)"
      ],
      "execution_count": 58,
      "outputs": [
        {
          "output_type": "stream",
          "text": [
            "Root Mean Squared Error (RMSE) on train data = 17.6086\n",
            "Root Mean Squared Error (RMSE) on test data = 24.2805\n"
          ],
          "name": "stdout"
        }
      ]
    },
    {
      "cell_type": "code",
      "metadata": {
        "colab": {
          "base_uri": "https://localhost:8080/",
          "height": 295
        },
        "id": "rXrwuA7w4KMD",
        "outputId": "f6db2538-d2d7-4161-fa64-edefe11d62e0"
      },
      "source": [
        "import matplotlib.pyplot as plt\n",
        "import numpy as np\n",
        "from numpy import polyfit\n",
        "\n",
        "x1 = test_df.toPandas()['Horsepower'].values.tolist()\n",
        "y1 = test_df.toPandas()['features'].values.tolist()\n",
        "plt.scatter(x1,y1 ,color='red', s=30)\n",
        "plt.xlabel('Displacement')\n",
        "plt.ylabel('Horsepower')\n",
        "plt.title('Linear Regression')\n",
        "p1 = polyfit(x1, y1, 1)\n",
        "plt.plot(x1, np.polyval(p1,x1), 'g-' )\n",
        "plt.show()"
      ],
      "execution_count": 48,
      "outputs": [
        {
          "output_type": "display_data",
          "data": {
            "image/png": "[encoded data removed]",
            "text/plain": [
              "<Figure size 432x288 with 1 Axes>"
            ]
          },
          "metadata": {
            "tags": [],
            "needs_background": "light"
          }
        }
      ]
    }
  ]
}