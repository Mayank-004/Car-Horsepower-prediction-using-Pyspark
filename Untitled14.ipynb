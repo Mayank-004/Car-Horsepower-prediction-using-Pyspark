{
  "nbformat": 4,
  "nbformat_minor": 0,
  "metadata": {
    "colab": {
      "name": "Untitled14.ipynb",
      "provenance": [],
      "authorship_tag": "ABX9TyO5D/uucxBSeHIOe7C1Hltd",
      "include_colab_link": true
    },
    "kernelspec": {
      "name": "python3",
      "display_name": "Python 3"
    },
    "language_info": {
      "name": "python"
    }
  },
  "cells": [
    {
      "cell_type": "markdown",
      "metadata": {
        "id": "view-in-github",
        "colab_type": "text"
      },
      "source": [
        "<a href=\"https://colab.research.google.com/github/Mayank-004/Car-Horsepower-prediction-using-Pyspark/blob/main/Untitled14.ipynb\" target=\"_parent\"><img src=\"https://colab.research.google.com/assets/colab-badge.svg\" alt=\"Open In Colab\"/></a>"
      ]
    },
    {
      "cell_type": "code",
      "metadata": {
        "colab": {
          "base_uri": "https://localhost:8080/"
        },
        "id": "aMDyX2GC7Mys",
        "outputId": "5fdf56ec-505e-4c12-be2c-5f7f335d3d24"
      },
      "source": [
        "!pip install pyspark\n",
        "\n",
        "from pyspark import SparkConf, SparkContext\n",
        "from pyspark.sql import SQLContext\n",
        "#sc= SparkContext()\n",
        "sqlContext = SQLContext(sc)\n",
        "car_df = sqlContext.read.format('com.databricks.spark.csv').options(header='true', inferschema='true').load('Small_Car_Data.csv')\n",
        "car_df.take(1)"
      ],
      "execution_count": 43,
      "outputs": [
        {
          "output_type": "stream",
          "text": [
            "Requirement already satisfied: pyspark in /usr/local/lib/python3.7/dist-packages (3.1.1)\n",
            "Requirement already satisfied: py4j==0.10.9 in /usr/local/lib/python3.7/dist-packages (from pyspark) (0.10.9)\n"
          ],
          "name": "stdout"
        },
        {
          "output_type": "execute_result",
          "data": {
            "text/plain": [
              "[Row(_c0=1, Acceleration=12.0, Cylinders=8, Displacement=307, Horsepower=130, Manufacturer='chevrolet    ', Model='chevrolet chevelle malibu        ', Model_Year=70, MPG=18.0, Origin='USA    ', Weight=3504)]"
            ]
          },
          "metadata": {
            "tags": []
          },
          "execution_count": 43
        }
      ]
    },
    {
      "cell_type": "code",
      "metadata": {
        "colab": {
          "base_uri": "https://localhost:8080/",
          "height": 421
        },
        "id": "poFWB6wB7etn",
        "outputId": "c1b54d58-0b8f-4594-c8c5-6da7908fe201"
      },
      "source": [
        "car_df.describe().toPandas().transpose()\n"
      ],
      "execution_count": 44,
      "outputs": [
        {
          "output_type": "execute_result",
          "data": {
            "text/html": [
              "<div>\n",
              "<style scoped>\n",
              "    .dataframe tbody tr th:only-of-type {\n",
              "        vertical-align: middle;\n",
              "    }\n",
              "\n",
              "    .dataframe tbody tr th {\n",
              "        vertical-align: top;\n",
              "    }\n",
              "\n",
              "    .dataframe thead th {\n",
              "        text-align: right;\n",
              "    }\n",
              "</style>\n",
              "<table border=\"1\" class=\"dataframe\">\n",
              "  <thead>\n",
              "    <tr style=\"text-align: right;\">\n",
              "      <th></th>\n",
              "      <th>0</th>\n",
              "      <th>1</th>\n",
              "      <th>2</th>\n",
              "      <th>3</th>\n",
              "      <th>4</th>\n",
              "    </tr>\n",
              "  </thead>\n",
              "  <tbody>\n",
              "    <tr>\n",
              "      <th>summary</th>\n",
              "      <td>count</td>\n",
              "      <td>mean</td>\n",
              "      <td>stddev</td>\n",
              "      <td>min</td>\n",
              "      <td>max</td>\n",
              "    </tr>\n",
              "    <tr>\n",
              "      <th>_c0</th>\n",
              "      <td>100</td>\n",
              "      <td>50.5</td>\n",
              "      <td>29.011491975882016</td>\n",
              "      <td>1</td>\n",
              "      <td>100</td>\n",
              "    </tr>\n",
              "    <tr>\n",
              "      <th>Acceleration</th>\n",
              "      <td>100</td>\n",
              "      <td>15.028000000000004</td>\n",
              "      <td>3.348452982160175</td>\n",
              "      <td>8.0</td>\n",
              "      <td>24.6</td>\n",
              "    </tr>\n",
              "    <tr>\n",
              "      <th>Cylinders</th>\n",
              "      <td>100</td>\n",
              "      <td>5.62</td>\n",
              "      <td>1.7909988184465022</td>\n",
              "      <td>4</td>\n",
              "      <td>8</td>\n",
              "    </tr>\n",
              "    <tr>\n",
              "      <th>Displacement</th>\n",
              "      <td>100</td>\n",
              "      <td>207.6</td>\n",
              "      <td>111.77448435817251</td>\n",
              "      <td>85</td>\n",
              "      <td>455</td>\n",
              "    </tr>\n",
              "    <tr>\n",
              "      <th>Horsepower</th>\n",
              "      <td>100</td>\n",
              "      <td>111.83</td>\n",
              "      <td>45.345153316456326</td>\n",
              "      <td>46</td>\n",
              "      <td>225</td>\n",
              "    </tr>\n",
              "    <tr>\n",
              "      <th>Manufacturer</th>\n",
              "      <td>100</td>\n",
              "      <td>None</td>\n",
              "      <td>None</td>\n",
              "      <td>amc</td>\n",
              "      <td>volvo</td>\n",
              "    </tr>\n",
              "    <tr>\n",
              "      <th>Model</th>\n",
              "      <td>100</td>\n",
              "      <td>None</td>\n",
              "      <td>None</td>\n",
              "      <td>amc ambassador dpl</td>\n",
              "      <td>volvo 245</td>\n",
              "    </tr>\n",
              "    <tr>\n",
              "      <th>Model_Year</th>\n",
              "      <td>100</td>\n",
              "      <td>75.76</td>\n",
              "      <td>4.893037725362245</td>\n",
              "      <td>70</td>\n",
              "      <td>82</td>\n",
              "    </tr>\n",
              "    <tr>\n",
              "      <th>MPG</th>\n",
              "      <td>100</td>\n",
              "      <td>23.315</td>\n",
              "      <td>7.966994731421944</td>\n",
              "      <td>9.0</td>\n",
              "      <td>44.0</td>\n",
              "    </tr>\n",
              "    <tr>\n",
              "      <th>Origin</th>\n",
              "      <td>100</td>\n",
              "      <td>None</td>\n",
              "      <td>None</td>\n",
              "      <td>France</td>\n",
              "      <td>USA</td>\n",
              "    </tr>\n",
              "    <tr>\n",
              "      <th>Weight</th>\n",
              "      <td>100</td>\n",
              "      <td>3011.83</td>\n",
              "      <td>806.9624182980607</td>\n",
              "      <td>1795</td>\n",
              "      <td>4732</td>\n",
              "    </tr>\n",
              "  </tbody>\n",
              "</table>\n",
              "</div>"
            ],
            "text/plain": [
              "                  0  ...                                  4\n",
              "summary       count  ...                                max\n",
              "_c0             100  ...                                100\n",
              "Acceleration    100  ...                               24.6\n",
              "Cylinders       100  ...                                  8\n",
              "Displacement    100  ...                                455\n",
              "Horsepower      100  ...                                225\n",
              "Manufacturer    100  ...                      volvo        \n",
              "Model           100  ...  volvo 245                        \n",
              "Model_Year      100  ...                                 82\n",
              "MPG             100  ...                               44.0\n",
              "Origin          100  ...                            USA    \n",
              "Weight          100  ...                               4732\n",
              "\n",
              "[12 rows x 5 columns]"
            ]
          },
          "metadata": {
            "tags": []
          },
          "execution_count": 44
        }
      ]
    },
    {
      "cell_type": "code",
      "metadata": {
        "colab": {
          "base_uri": "https://localhost:8080/"
        },
        "id": "V_4coEM17iIF",
        "outputId": "7c9589b1-e7a7-40b0-aadd-a8ea0068de8c"
      },
      "source": [
        "from pyspark.ml.feature import VectorAssembler\n",
        "from pyspark.ml.feature import StringIndexer\n",
        "\n",
        "from pyspark.ml.feature import StringIndexer\n",
        "from pyspark.ml import Pipeline\n",
        "\n",
        "indexers = [StringIndexer(inputCol=\"Origin\", outputCol=\"OriginIndex\"),StringIndexer(inputCol=\"Manufacturer\", outputCol=\"ManufactureIndex\") , StringIndexer(inputCol=\"Model\", outputCol=\"ModelIndex\")]\n",
        "\n",
        "\n",
        "pipeline = Pipeline(stages=indexers)\n",
        "car_df = pipeline.fit(car_df).transform(car_df)\n",
        "\n",
        "car_df.show()\n",
        "\n",
        "vectorAssembler = VectorAssembler(inputCols = ['Cylinders','Displacement','ManufactureIndex','ModelIndex','OriginIndex','Weight'], outputCol = 'features')\n",
        "vcar_df = vectorAssembler.transform(car_df)\n",
        "\n",
        "vcar_df = vcar_df.select(['features', 'Horsepower'])\n",
        "\n"
      ],
      "execution_count": 45,
      "outputs": [
        {
          "output_type": "stream",
          "text": [
            "+---+------------+---------+------------+----------+-------------+--------------------+----------+----+-------+------+-----------+----------------+----------+\n",
            "|_c0|Acceleration|Cylinders|Displacement|Horsepower| Manufacturer|               Model|Model_Year| MPG| Origin|Weight|OriginIndex|ManufactureIndex|ModelIndex|\n",
            "+---+------------+---------+------------+----------+-------------+--------------------+----------+----+-------+------+-----------+----------------+----------+\n",
            "|  1|        12.0|        8|         307|       130|chevrolet    |chevrolet chevell...|        70|18.0|USA    |  3504|        0.0|             1.0|      26.0|\n",
            "|  2|        11.5|        8|         350|       165|buick        |buick skylark 320...|        70|15.0|USA    |  3693|        0.0|             9.0|      17.0|\n",
            "|  3|        11.0|        8|         318|       150|plymouth     |plymouth satellit...|        70|18.0|USA    |  3436|        0.0|             4.0|      77.0|\n",
            "|  4|        12.0|        8|         304|       150|amc          |amc rebel sst    ...|        70|16.0|USA    |  3433|        0.0|             2.0|      11.0|\n",
            "|  5|        10.5|        8|         302|       140|ford         |ford torino      ...|        70|17.0|USA    |  3449|        0.0|             0.0|      61.0|\n",
            "|  6|        10.0|        8|         429|       198|ford         |ford galaxie 500 ...|        70|15.0|USA    |  4341|        0.0|             0.0|      53.0|\n",
            "|  7|         9.0|        8|         454|       220|chevrolet    |chevrolet impala ...|        70|14.0|USA    |  4354|        0.0|             1.0|      29.0|\n",
            "|  8|         8.5|        8|         440|       215|plymouth     |plymouth fury iii...|        70|14.0|USA    |  4312|        0.0|             4.0|      75.0|\n",
            "|  9|        10.0|        8|         455|       225|pontiac      |pontiac catalina ...|        70|14.0|USA    |  4425|        0.0|             8.0|      81.0|\n",
            "| 10|         8.5|        8|         390|       190|amc          |amc ambassador dp...|        70|15.0|USA    |  3850|        0.0|             2.0|       6.0|\n",
            "| 11|        17.5|        4|         133|       115|citroen      |citroen ds-21 pal...|        70|14.0|France |  3090|        3.0|            17.0|      35.0|\n",
            "| 12|        11.5|        8|         350|       165|chevrolet    |chevrolet chevell...|        70|16.0|USA    |  4142|        0.0|             1.0|      25.0|\n",
            "| 13|        11.0|        8|         351|       153|ford         |ford torino (sw) ...|        70|17.0|USA    |  4034|        0.0|             0.0|      62.0|\n",
            "| 14|        10.5|        8|         383|       175|plymouth     |plymouth satellit...|        70|19.0|USA    |  4166|        0.0|             4.0|      78.0|\n",
            "| 15|        11.0|        8|         360|       175|amc          |amc rebel sst (sw...|        70|20.0|USA    |  3850|        0.0|             2.0|      12.0|\n",
            "| 16|        10.0|        8|         383|       170|dodge        |dodge challenger ...|        70|15.0|USA    |  3563|        0.0|             3.0|      41.0|\n",
            "| 17|         8.0|        8|         340|       160|plymouth     |plymouth 'cuda 34...|        70|14.0|USA    |  3609|        0.0|             4.0|      73.0|\n",
            "| 18|         8.0|        8|         302|       140|ford         |ford mustang boss...|        70|16.0|USA    |  3353|        0.0|             0.0|      57.0|\n",
            "| 19|         9.5|        8|         400|       150|chevrolet    |chevrolet monte c...|        70|15.0|USA    |  3761|        0.0|             1.0|      30.0|\n",
            "| 20|        10.0|        8|         455|       225|buick        |buick estate wago...|        70|14.0|USA    |  3086|        0.0|             9.0|      16.0|\n",
            "+---+------------+---------+------------+----------+-------------+--------------------+----------+----+-------+------+-----------+----------------+----------+\n",
            "only showing top 20 rows\n",
            "\n"
          ],
          "name": "stdout"
        }
      ]
    },
    {
      "cell_type": "code",
      "metadata": {
        "id": "aJIjpIQMJsAg"
      },
      "source": [
        "splits = vcar_df.randomSplit([0.9, 0.1])\n",
        "train_df = splits[0]\n",
        "test_df = splits[1]"
      ],
      "execution_count": 46,
      "outputs": []
    },
    {
      "cell_type": "code",
      "metadata": {
        "colab": {
          "base_uri": "https://localhost:8080/"
        },
        "id": "ArztEnHGJwkh",
        "outputId": "8dcff186-353a-48d7-a146-75d683c2b2e3"
      },
      "source": [
        "from pyspark.ml.regression import LinearRegression\n",
        "lr = LinearRegression(featuresCol = 'features', labelCol='Horsepower', maxIter=10, regParam=0.3, elasticNetParam=0.8)\n",
        "lr_model = lr.fit(train_df)\n",
        "print(\"Coefficients: \" + str(lr_model.coefficients))\n",
        "print(\"Intercept: \" + str(lr_model.intercept))"
      ],
      "execution_count": 47,
      "outputs": [
        {
          "output_type": "stream",
          "text": [
            "Coefficients: [3.8542960270262845,0.1461938048264091,0.37729625661707167,0.02392181946992773,2.5338894875352276,0.024721079016689143]\n",
            "Intercept: -20.44346212978857\n"
          ],
          "name": "stdout"
        }
      ]
    },
    {
      "cell_type": "code",
      "metadata": {
        "colab": {
          "base_uri": "https://localhost:8080/"
        },
        "id": "EX0vCLmUJy41",
        "outputId": "11dd7483-ede7-4f7b-9881-eee93c66f8d0"
      },
      "source": [
        "trainingSummary = lr_model.summary\n",
        "print(\"RMSE: %f\" % trainingSummary.rootMeanSquaredError)\n",
        "print(\"r2: %f\" % trainingSummary.r2)"
      ],
      "execution_count": 48,
      "outputs": [
        {
          "output_type": "stream",
          "text": [
            "RMSE: 16.277704\n",
            "r2: 0.859786\n"
          ],
          "name": "stdout"
        }
      ]
    },
    {
      "cell_type": "code",
      "metadata": {
        "colab": {
          "base_uri": "https://localhost:8080/"
        },
        "id": "9g6dgas_J237",
        "outputId": "a0a88449-813a-4d93-c8e8-a60421d888c5"
      },
      "source": [
        "lr_predictions_train = lr_model.transform(test_df)\n",
        "lr_predictions_test = lr_model.transform(test_df)\n",
        "print(\"Prediction for Train Data\")\n",
        "lr_predictions_train.select(\"prediction\",\"Horsepower\",\"features\").show(5)\n",
        "\n",
        "print(\"Prediction for Test Data\")\n",
        "lr_predictions_test.select(\"prediction\",\"Horsepower\",\"features\").show(5)\n",
        "\n",
        "from pyspark.ml.evaluation import RegressionEvaluator\n",
        "lr_evaluator = RegressionEvaluator(predictionCol=\"prediction\", \\\n",
        "                 labelCol=\"Horsepower\",metricName=\"r2\")\n",
        "print(\"R Squared (R2) on test data = %g\" % lr_evaluator.evaluate(lr_predictions))\n",
        "print(\"R Squared (R2) on test data = %g\" % lr_evaluator.evaluate(lr_predictions))"
      ],
      "execution_count": 52,
      "outputs": [
        {
          "output_type": "stream",
          "text": [
            "Prediction for Train Data\n",
            "+------------------+----------+--------------------+\n",
            "|        prediction|Horsepower|            features|\n",
            "+------------------+----------+--------------------+\n",
            "| 63.46706008014277|        70|[4.0,90.0,6.0,5.0...|\n",
            "|  73.7009762581212|        84|[4.0,135.0,3.0,47...|\n",
            "| 87.51068064926447|        92|[4.0,140.0,0.0,52...|\n",
            "|104.47072180763229|       108|[6.0,156.0,5.0,89...|\n",
            "|104.94290390952142|        95|[6.0,198.0,4.0,74...|\n",
            "+------------------+----------+--------------------+\n",
            "only showing top 5 rows\n",
            "\n",
            "Prediction for Test Data\n",
            "+------------------+----------+--------------------+\n",
            "|        prediction|Horsepower|            features|\n",
            "+------------------+----------+--------------------+\n",
            "| 63.46706008014277|        70|[4.0,90.0,6.0,5.0...|\n",
            "|  73.7009762581212|        84|[4.0,135.0,3.0,47...|\n",
            "| 87.51068064926447|        92|[4.0,140.0,0.0,52...|\n",
            "|104.47072180763229|       108|[6.0,156.0,5.0,89...|\n",
            "|104.94290390952142|        95|[6.0,198.0,4.0,74...|\n",
            "+------------------+----------+--------------------+\n",
            "only showing top 5 rows\n",
            "\n",
            "R Squared (R2) on test data = 0.743187\n",
            "R Squared (R2) on test data = 0.743187\n"
          ],
          "name": "stdout"
        }
      ]
    },
    {
      "cell_type": "code",
      "metadata": {
        "colab": {
          "base_uri": "https://localhost:8080/"
        },
        "id": "dXRJFQ6vJ9kG",
        "outputId": "7b7abc31-3231-47f4-831c-3824bad0e387"
      },
      "source": [
        "test_result_train = lr_model.evaluate(train_df)\n",
        "print(\"Root Mean Squared Error (RMSE) on train data = %g\" % test_result_train.rootMeanSquaredError)\n",
        "\n",
        "test_result_test = lr_model.evaluate(test_df)\n",
        "print(\"Root Mean Squared Error (RMSE) on test data = %g\" % test_result_test.rootMeanSquaredError)"
      ],
      "execution_count": 54,
      "outputs": [
        {
          "output_type": "stream",
          "text": [
            "Root Mean Squared Error (RMSE) on train data = 16.2777\n",
            "Root Mean Squared Error (RMSE) on test data = 25.4044\n"
          ],
          "name": "stdout"
        }
      ]
    },
    {
      "cell_type": "code",
      "metadata": {
        "id": "0g8sCL2mKBpl"
      },
      "source": [
        ""
      ],
      "execution_count": null,
      "outputs": []
    },
    {
      "cell_type": "markdown",
      "metadata": {
        "id": "xytu8iMF8TSj"
      },
      "source": [
        ""
      ]
    }
  ]
}